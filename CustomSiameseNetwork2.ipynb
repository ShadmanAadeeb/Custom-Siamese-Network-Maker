{
  "nbformat": 4,
  "nbformat_minor": 0,
  "metadata": {
    "accelerator": "GPU",
    "colab": {
      "name": "CustomSiameseNetwork2.ipynb",
      "provenance": [],
      "collapsed_sections": [],
      "mount_file_id": "1Dx5C-ZsGEtl5zbWTrshE9_RsHB7W-xoQ",
      "authorship_tag": "ABX9TyO1ufNthIXmOqiMdOluKRji",
      "include_colab_link": true
    },
    "kernelspec": {
      "display_name": "Python 3",
      "name": "python3"
    }
  },
  "cells": [
    {
      "cell_type": "markdown",
      "metadata": {
        "id": "view-in-github",
        "colab_type": "text"
      },
      "source": [
        "<a href=\"https://colab.research.google.com/github/ShadmanAadeeb/Custom-Siamese-Network-Maker/blob/main/CustomSiameseNetwork2.ipynb\" target=\"_parent\"><img src=\"https://colab.research.google.com/assets/colab-badge.svg\" alt=\"Open In Colab\"/></a>"
      ]
    },
    {
      "cell_type": "code",
      "metadata": {
        "id": "JsTJPVB7QgQK"
      },
      "source": [
        "import tensorflow as tf\r\n",
        "import numpy as np\r\n",
        "from tensorflow.keras.layers import Dense,MaxPool2D,Dropout,Flatten,Conv2D,GlobalAveragePooling2D,Activation\r\n",
        "from tensorflow.keras.models import Model, load_model\r\n",
        "#Necessary imports for preparing the training datasets\r\n",
        "import numpy as np\r\n",
        "import os\r\n",
        "import PIL\r\n",
        "import PIL.Image\r\n",
        "import tensorflow as tf\r\n",
        "import tensorflow_datasets as tfds\r\n",
        "\r\n",
        "\r\n",
        "# Importing model related packages\r\n",
        "from tensorflow.keras.models import Model\r\n",
        "from tensorflow.keras.layers import Input\r\n",
        "from tensorflow.keras.layers import Conv2D\r\n",
        "from tensorflow.keras.layers import Dense\r\n",
        "from tensorflow.keras.layers import Dropout\r\n",
        "from tensorflow.keras.layers import GlobalAveragePooling2D\r\n",
        "from tensorflow.keras.layers import MaxPooling2D\r\n",
        "from keras.applications.vgg16 import VGG16\r\n",
        "from keras.models import Model\r\n",
        "from keras.layers import Dense\r\n",
        "from keras.layers import Flatten\r\n",
        "from keras.layers import Dropout\r\n",
        "import numpy as np\r\n",
        "from keras.preprocessing.image import ImageDataGenerator\r\n",
        "from tensorflow.keras import regularizers\r\n",
        "\r\n",
        "# import the necessary packages\r\n",
        "import os\r\n",
        "import tensorflow as tf\r\n",
        "\r\n",
        "# import the necessary packages\r\n",
        "import tensorflow.keras.backend as K\r\n",
        "import matplotlib.pyplot as plt\r\n",
        "import numpy as np\r\n",
        "\r\n",
        "#importing more libraies\r\n",
        "from tensorflow.keras.models import Model\r\n",
        "from tensorflow.keras.layers import Dense\r\n",
        "from tensorflow.keras.layers import Input\r\n",
        "from tensorflow.keras.layers import Lambda\r\n",
        "from tensorflow.keras.datasets import mnist\r\n",
        "import numpy as np\r\n",
        "import cv2\r\n",
        "from keras.callbacks import ModelCheckpoint"
      ],
      "execution_count": null,
      "outputs": []
    },
    {
      "cell_type": "markdown",
      "metadata": {
        "id": "QKZBmYeiggNJ"
      },
      "source": [
        "<center><h1>Importing the TRAINING data and turning them into a numpy array</h1></center>"
      ]
    },
    {
      "cell_type": "code",
      "metadata": {
        "id": "V_BZjDoxRGeJ"
      },
      "source": [
        "#At first I am extracting the data into the tmp directory\r\n",
        "import os\r\n",
        "import zipfile\r\n",
        "local_zip = '/content/drive/MyDrive/Thesis Final Works/trainData.zip'\r\n",
        "zip_ref = zipfile.ZipFile(local_zip, 'r')\r\n",
        "zip_ref.extractall('/tmp/train')\r\n",
        "zip_ref.close()"
      ],
      "execution_count": null,
      "outputs": []
    },
    {
      "cell_type": "code",
      "metadata": {
        "colab": {
          "base_uri": "https://localhost:8080/"
        },
        "id": "Z7kFc3b-VmE1",
        "outputId": "47f63bf5-68d9-4feb-a36d-8a5d2da15094"
      },
      "source": [
        "#Using train_ds object to flow in all the images from the tmp directory\r\n",
        "no_of_images=4000\r\n",
        "train_ds = tf.keras.preprocessing.image_dataset_from_directory(\r\n",
        "  \"/tmp/train\",\r\n",
        "  validation_split=0,\r\n",
        "  seed=123,\r\n",
        "  image_size=(100, 100),\r\n",
        "  batch_size=no_of_images)\r\n"
      ],
      "execution_count": null,
      "outputs": [
        {
          "output_type": "stream",
          "text": [
            "Found 4076 files belonging to 8 classes.\n"
          ],
          "name": "stdout"
        }
      ]
    },
    {
      "cell_type": "code",
      "metadata": {
        "colab": {
          "base_uri": "https://localhost:8080/"
        },
        "id": "XhnT4wXtWCF3",
        "outputId": "3703d461-4561-4143-a23a-39a2bd776000"
      },
      "source": [
        "#Printing the class names\r\n",
        "class_names = train_ds.class_names\r\n",
        "print(class_names)"
      ],
      "execution_count": null,
      "outputs": [
        {
          "output_type": "stream",
          "text": [
            "['ResizedGesture1', 'ResizedGesture2', 'ResizedGesture3', 'ResizedGesture4', 'ResizedGesture5', 'ResizedGesture6', 'ResizedGesture7', 'ResizedGesture8']\n"
          ],
          "name": "stdout"
        }
      ]
    },
    {
      "cell_type": "code",
      "metadata": {
        "colab": {
          "base_uri": "https://localhost:8080/"
        },
        "id": "up_csp-SWfaf",
        "outputId": "330daacb-edff-4476-9436-f165dd0b4f05"
      },
      "source": [
        "#Collecting all the images in a large numpy array\r\n",
        "#Collecting all the Corresponding image labels too \r\n",
        "#Both from the train_ds object\r\n",
        "datas=None\r\n",
        "labels=None\r\n",
        "for image_batch, labels_batch in train_ds:\r\n",
        "  print(image_batch.shape)\r\n",
        "  print(labels_batch.shape)\r\n",
        "  datas=image_batch\r\n",
        "  labels=labels_batch\r\n",
        "  break\r\n",
        "  "
      ],
      "execution_count": null,
      "outputs": [
        {
          "output_type": "stream",
          "text": [
            "(4000, 100, 100, 3)\n",
            "(4000,)\n"
          ],
          "name": "stdout"
        }
      ]
    },
    {
      "cell_type": "code",
      "metadata": {
        "id": "7ohK_XVcWnXv"
      },
      "source": [
        "#Dividing the image values by 255\r\n",
        "datas=datas.numpy()/255.0\r\n",
        "labels=labels.numpy()"
      ],
      "execution_count": null,
      "outputs": []
    },
    {
      "cell_type": "code",
      "metadata": {
        "colab": {
          "base_uri": "https://localhost:8080/"
        },
        "id": "cXqBZkzqlock",
        "outputId": "0616c219-7005-4bd7-944b-c03950b3bc0d"
      },
      "source": [
        "print(datas[0].shape)"
      ],
      "execution_count": null,
      "outputs": [
        {
          "output_type": "stream",
          "text": [
            "(100, 100, 3)\n"
          ],
          "name": "stdout"
        }
      ]
    },
    {
      "cell_type": "code",
      "metadata": {
        "colab": {
          "base_uri": "https://localhost:8080/",
          "height": 285
        },
        "id": "TY9TOR-Se-Mg",
        "outputId": "90df209b-1a76-4cf4-8588-1dfd66443b90"
      },
      "source": [
        "for i in range(no_of_images):\r\n",
        "  if(labels[i]==7):\r\n",
        "    print(labels[i])\r\n",
        "    plt.imshow(datas[i])\r\n",
        "    break"
      ],
      "execution_count": null,
      "outputs": [
        {
          "output_type": "stream",
          "text": [
            "7\n"
          ],
          "name": "stdout"
        },
        {
          "output_type": "display_data",
          "data": {
            "image/png": "[encoded data removed]",
            "text/plain": [
              "<Figure size 432x288 with 1 Axes>"
            ]
          },
          "metadata": {
            "tags": []
          }
        }
      ]
    },
    {
      "cell_type": "code",
      "metadata": {
        "colab": {
          "base_uri": "https://localhost:8080/"
        },
        "id": "Fwo1TqXvfl4o",
        "outputId": "8f06c2a7-6c08-43b1-e2de-ce0bbc16b626"
      },
      "source": [
        "#Storing the training data as x_train and  y_train respectively\r\n",
        "from sklearn.model_selection import train_test_split\r\n",
        "\r\n",
        "X_train = datas \r\n",
        "Y_train=labels\r\n",
        "print(X_train.shape)\r\n",
        "print(Y_train.shape)\r\n"
      ],
      "execution_count": null,
      "outputs": [
        {
          "output_type": "stream",
          "text": [
            "(4000, 100, 100, 3)\n",
            "(4000,)\n"
          ],
          "name": "stdout"
        }
      ]
    },
    {
      "cell_type": "markdown",
      "metadata": {
        "id": "nBO7m1sQTcd1"
      },
      "source": [
        "<h1>Collecting the testing data similary into X_test and Y_test</h1>"
      ]
    },
    {
      "cell_type": "code",
      "metadata": {
        "id": "t1Z3gmlVTh1e"
      },
      "source": [
        "#At first I am extracting the data into the tmp directory\r\n",
        "import os\r\n",
        "import zipfile\r\n",
        "local_zip = '/content/drive/MyDrive/Thesis Final Works/trainData.zip'\r\n",
        "zip_ref = zipfile.ZipFile(local_zip, 'r')\r\n",
        "zip_ref.extractall('/tmp/test')\r\n",
        "zip_ref.close()\r\n",
        "#Using train_ds object to flow in all the images from the tmp directory\r\n",
        "no_of_images=2000\r\n",
        "test_ds = tf.keras.preprocessing.image_dataset_from_directory(\r\n",
        "  \"/tmp/test\",\r\n",
        "  validation_split=0,\r\n",
        "  seed=123,\r\n",
        "  image_size=(100, 100),\r\n",
        "  batch_size=no_of_images)\r\n",
        "#Printing the class names\r\n",
        "class_names = test_ds.class_names\r\n",
        "print(class_names)\r\n",
        "#Collecting all the images in a large numpy array\r\n",
        "#Collecting all the Corresponding image labels too \r\n",
        "#Both from the train_ds object\r\n",
        "datas=None\r\n",
        "labels=None\r\n",
        "for image_batch, labels_batch in test_ds:\r\n",
        "  print(image_batch.shape)\r\n",
        "  print(labels_batch.shape)\r\n",
        "  datas=image_batch\r\n",
        "  labels=labels_batch\r\n",
        "  break\r\n",
        "#Dividing the image values by 255\r\n",
        "datas=datas.numpy()/255.0\r\n",
        "labels=labels.numpy()\r\n",
        "#Printing the shape of data\r\n",
        "print(datas[0].shape)\r\n",
        "#Showing image\r\n",
        "for i in range(no_of_images):\r\n",
        "  if(labels[i]==7):\r\n",
        "    print(labels[i])\r\n",
        "    plt.imshow(datas[i])\r\n",
        "    break\r\n",
        "#Storing the training data as x_test and  y_test respectively\r\n",
        "X_test = datas \r\n",
        "Y_test=labels\r\n",
        "print(X_test.shape)\r\n",
        "print(Y_test.shape)"
      ],
      "execution_count": null,
      "outputs": []
    },
    {
      "cell_type": "markdown",
      "metadata": {
        "id": "XH4tXoUGgqV4"
      },
      "source": [
        "<center><h1>Making the model</h1></center>"
      ]
    },
    {
      "cell_type": "markdown",
      "metadata": {
        "id": "EsIQbBZAhYsh"
      },
      "source": [
        "1.This function will return a sister network of the Siamese architecture\r\n"
      ]
    },
    {
      "cell_type": "code",
      "metadata": {
        "id": "jxF4BSADQ4N9"
      },
      "source": [
        "# This function takes in the input shape and returns a siamese network model\r\n",
        "def build_siamese_model(inputShape, embeddingDim=48):\r\n",
        "\t# specify the inputs for the feature extractor network\r\n",
        "\tinputs = Input(inputShape)\r\n",
        "\t# define the first set of CONV => RELU => POOL => DROPOUT layers\r\n",
        "\tx = Conv2D(64, (2, 2), padding=\"same\", activation=\"relu\")(inputs)\r\n",
        "\tx = MaxPooling2D(pool_size=(2, 2))(x)\r\n",
        "\tx = Dropout(0.3)(x)\r\n",
        "\t# second set of CONV => RELU => POOL => DROPOUT layers\r\n",
        "\tx = Conv2D(64, (2, 2), padding=\"same\", activation=\"relu\")(x)\r\n",
        "\tx = MaxPooling2D(pool_size=2)(x)\r\n",
        "\tx = Dropout(0.3)(x)\r\n",
        " \r\n",
        " \t# prepare the final outputs\r\n",
        "\tpooledOutput = GlobalAveragePooling2D()(x)\r\n",
        "\toutputs = Dense(embeddingDim)(pooledOutput)\r\n",
        "\t# build the model\r\n",
        "\tmodel = Model(inputs, outputs)\r\n",
        "\t# return the model to the calling function\r\n",
        "\treturn model"
      ],
      "execution_count": null,
      "outputs": []
    },
    {
      "cell_type": "markdown",
      "metadata": {
        "id": "q-ZBOpiehg_J"
      },
      "source": [
        "2.Specifying some parameters for training purpose"
      ]
    },
    {
      "cell_type": "code",
      "metadata": {
        "id": "P52hD_GzR9l2"
      },
      "source": [
        "# specify the shape of the inputs for our network\r\n",
        "IMG_SHAPE = (100, 100, 3)\r\n",
        "# specify the batch size and number of epochs\r\n",
        "BATCH_SIZE = 16\r\n",
        "EPOCHS = 150\r\n"
      ],
      "execution_count": null,
      "outputs": []
    },
    {
      "cell_type": "markdown",
      "metadata": {
        "id": "cQBXA_OXhkeJ"
      },
      "source": [
        "3.This function will pair up 2 images<br>\r\n",
        "Assign '1' if they are same<br>\r\n",
        "Assign '0' if they are different"
      ]
    },
    {
      "cell_type": "code",
      "metadata": {
        "id": "Y-0NKRTghTML"
      },
      "source": [
        "# This function will take all images and their labels\r\n",
        "# It will pair up images and return for example [(img1,img2),(img1,img3)], [1,0]\r\n",
        "\r\n",
        "def make_pairs(images, labels):\r\n",
        "\t# initialize two empty lists to hold the (image, image) pairs and\r\n",
        "\t# labels to indicate if a pair is positive or negative\r\n",
        "\tpairImages = []\r\n",
        "\tpairLabels = []\r\n",
        "\t# calculate the total number of classes present in the dataset\r\n",
        "\t# and then build a list of indexes for each class label that\r\n",
        "\t# provides the indexes for all examples with a given label\r\n",
        "\tnumClasses = len(np.unique(labels))\r\n",
        "\tidx = [np.where(labels == i)[0] for i in range(0, numClasses)]\r\n",
        "\t# loop over all images\r\n",
        "\tfor idxA in range(len(images)):\r\n",
        "\t\t# grab the current image and label belonging to the current\r\n",
        "\t\t# iteration\r\n",
        "\t\tcurrentImage = images[idxA]\r\n",
        "\t\tlabel = labels[idxA]\r\n",
        "\t\t# randomly pick an image that belongs to the *same* class\r\n",
        "\t\t# label\r\n",
        "\t\tidxB = np.random.choice(idx[label])\r\n",
        "\t\tposImage = images[idxB]\r\n",
        "\t\t# prepare a positive pair and update the images and labels\r\n",
        "\t\t# lists, respectively\r\n",
        "\t\tpairImages.append([currentImage, posImage])\r\n",
        "\t\tpairLabels.append([1])\r\n",
        "\t\t# grab the indices for each of the class labels *not* equal to\r\n",
        "\t\t# the current label and randomly pick an image corresponding\r\n",
        "\t\t# to a label *not* equal to the current label\r\n",
        "\t\tnegIdx = np.where(labels != label)[0]\r\n",
        "\t\tnegImage = images[np.random.choice(negIdx)]\r\n",
        "\t\t# prepare a negative pair of images and update our lists\r\n",
        "\t\tpairImages.append([currentImage, negImage])\r\n",
        "\t\tpairLabels.append([0])\r\n",
        "\t# return a 2-tuple of our image pairs and labels\r\n",
        "\treturn (np.array(pairImages), np.array(pairLabels))"
      ],
      "execution_count": null,
      "outputs": []
    },
    {
      "cell_type": "markdown",
      "metadata": {
        "id": "bI2pIVSchxe4"
      },
      "source": [
        "4.This  function will take feature maps from the two sster networks and provide the eucldian distance between them"
      ]
    },
    {
      "cell_type": "code",
      "metadata": {
        "id": "jX6GsD3whV4J"
      },
      "source": [
        "#It takes two vectors as tuples and place it in different lists\r\n",
        "#Eucledian distance is calculated for the vectors\r\n",
        "def euclidean_distance(vectors):\r\n",
        "\t# unpack the vectors into separate lists\r\n",
        "\t(featsA, featsB) = vectors\r\n",
        "\t# compute the sum of squared distances between the vectors\r\n",
        "\tsumSquared = K.sum(K.square(featsA - featsB), axis=1,\r\n",
        "\t\tkeepdims=True)\r\n",
        "\t# return the euclidean distance between the vectors\r\n",
        "\treturn K.sqrt(K.maximum(sumSquared, K.epsilon()))"
      ],
      "execution_count": null,
      "outputs": []
    },
    {
      "cell_type": "markdown",
      "metadata": {
        "id": "eS1Qke6Xh6KY"
      },
      "source": [
        "5.This function will be called by passing the history of training for plotting purposes"
      ]
    },
    {
      "cell_type": "code",
      "metadata": {
        "id": "h0NBP0fahXfJ"
      },
      "source": [
        "#It takes in history from the model a path for storing the graph\r\n",
        "#It creates an image and stores it in the plotpath\r\n",
        "def plot_training(H, plotPath):\r\n",
        "\t# construct a plot that plots and saves the training history\r\n",
        "\tplt.style.use(\"ggplot\")\r\n",
        "\tplt.figure()\r\n",
        "\tplt.plot(H.history[\"loss\"], label=\"train_loss\")\r\n",
        "\tplt.plot(H.history[\"val_loss\"], label=\"val_loss\")\r\n",
        "\tplt.plot(H.history[\"accuracy\"], label=\"train_acc\")\r\n",
        "\tplt.plot(H.history[\"val_accuracy\"], label=\"val_acc\")\r\n",
        "\tplt.title(\"Training Loss and Accuracy\")\r\n",
        "\tplt.xlabel(\"Epoch #\")\r\n",
        "\tplt.ylabel(\"Loss/Accuracy\")\r\n",
        "\tplt.legend(loc=\"lower left\")\r\n",
        "\tplt.savefig(plotPath)"
      ],
      "execution_count": null,
      "outputs": []
    },
    {
      "cell_type": "markdown",
      "metadata": {
        "id": "gAzoeCIBiOQI"
      },
      "source": [
        "Preparing paired dataset"
      ]
    },
    {
      "cell_type": "code",
      "metadata": {
        "id": "xkoLAgkeSF-f"
      },
      "source": [
        "(pairTrain, labelTrain) = make_pairs(X_train, Y_train)\r\n",
        "(pairTest, labelTest) = make_pairs(X_test, Y_test)"
      ],
      "execution_count": null,
      "outputs": []
    },
    {
      "cell_type": "code",
      "metadata": {
        "colab": {
          "base_uri": "https://localhost:8080/"
        },
        "id": "DCFipPHASI_E",
        "outputId": "84ae6179-ad20-4d8b-b5ab-138ba46e55e4"
      },
      "source": [
        "pairTrain[0].shape"
      ],
      "execution_count": null,
      "outputs": [
        {
          "output_type": "execute_result",
          "data": {
            "text/plain": [
              "(2, 100, 100, 3)"
            ]
          },
          "metadata": {
            "tags": []
          },
          "execution_count": 38
        }
      ]
    },
    {
      "cell_type": "markdown",
      "metadata": {
        "id": "1X3vND04kkVp"
      },
      "source": [
        "Assembling the Siamese network from the sister networks\r\n"
      ]
    },
    {
      "cell_type": "code",
      "metadata": {
        "colab": {
          "base_uri": "https://localhost:8080/"
        },
        "id": "rHVD73hWkj7a",
        "outputId": "76bb9980-8994-46f1-b523-e9ee07602634"
      },
      "source": [
        "# configure the siamese network\r\n",
        "print(\"[INFO] building siamese network...\")\r\n",
        "imgA = Input(shape=IMG_SHAPE)\r\n",
        "imgB = Input(shape=IMG_SHAPE)\r\n",
        "featureExtractor = build_siamese_model(IMG_SHAPE)\r\n",
        "featsA = featureExtractor(imgA)\r\n",
        "featsB = featureExtractor(imgB)\r\n",
        "# finally, construct the siamese network\r\n",
        "distance = Lambda(euclidean_distance)([featsA, featsB])\r\n",
        "outputs = Dense(1, activation=\"sigmoid\")(distance)\r\n",
        "model = Model(inputs=[imgA, imgB], outputs=outputs)"
      ],
      "execution_count": null,
      "outputs": [
        {
          "output_type": "stream",
          "text": [
            "[INFO] building siamese network...\n"
          ],
          "name": "stdout"
        }
      ]
    },
    {
      "cell_type": "code",
      "metadata": {
        "colab": {
          "base_uri": "https://localhost:8080/"
        },
        "id": "H6IQKUdpkqs5",
        "outputId": "f991385f-90fa-481c-ccd3-a7d745906ff3"
      },
      "source": [
        "print(\"[INFO] compiling model...\")\r\n",
        "model.compile(loss=\"binary_crossentropy\", optimizer=\"adam\",\r\n",
        "\tmetrics=[\"accuracy\"])\r\n",
        "# train the model\r\n"
      ],
      "execution_count": null,
      "outputs": [
        {
          "output_type": "stream",
          "text": [
            "[INFO] compiling model...\n"
          ],
          "name": "stdout"
        }
      ]
    },
    {
      "cell_type": "code",
      "metadata": {
        "id": "pR0TxgDRMgPX"
      },
      "source": [
        "#More on\r\n",
        "#https://machinelearningmastery.com/check-point-deep-learning-models-keras/\r\n",
        "\r\n",
        "filepath=\"/tmp/weights-improvement-{epoch:02d}-{val_accuracy:.2f}.hdf5\"\r\n",
        "checkpoint = ModelCheckpoint(filepath, monitor='val_accuracy', verbose=1, save_best_only=True, mode='max')\r\n",
        "callbacks_list = [checkpoint]"
      ],
      "execution_count": null,
      "outputs": []
    },
    {
      "cell_type": "code",
      "metadata": {
        "colab": {
          "background_save": true,
          "base_uri": "https://localhost:8080/"
        },
        "id": "T6bZIk8xlZbi",
        "outputId": "709b099a-3f60-456e-9938-ef683c1d7f9d"
      },
      "source": [
        "print(\"[INFO] training model...\")\r\n",
        "history = model.fit(\r\n",
        "\t[pairTrain[:, 0], pairTrain[:, 1]], labelTrain[:],\r\n",
        "\tvalidation_data=([pairTest[:, 0], pairTest[:, 1]], labelTest[:]),\r\n",
        "\tbatch_size=BATCH_SIZE, \r\n",
        "\tepochs=EPOCHS,\r\n",
        "  callbacks=callbacks_list)"
      ],
      "execution_count": null,
      "outputs": [
        {
          "output_type": "stream",
          "text": [
            "[INFO] training model...\n",
            "Epoch 1/150\n",
            "400/400 [==============================] - 6s 15ms/step - loss: 0.6944 - accuracy: 0.4876 - val_loss: 0.6932 - val_accuracy: 0.5000\n",
            "\n",
            "Epoch 00001: val_accuracy improved from -inf to 0.50000, saving model to /tmp/weights-improvement-01-0.50.hdf5\n",
            "Epoch 2/150\n",
            "400/400 [==============================] - 6s 14ms/step - loss: 0.6932 - accuracy: 0.5086 - val_loss: 0.6932 - val_accuracy: 0.4550\n",
            "\n",
            "Epoch 00002: val_accuracy did not improve from 0.50000\n",
            "Epoch 3/150\n",
            "400/400 [==============================] - 6s 14ms/step - loss: 0.6931 - accuracy: 0.5149 - val_loss: 0.6932 - val_accuracy: 0.5000\n",
            "\n",
            "Epoch 00003: val_accuracy did not improve from 0.50000\n",
            "Epoch 4/150\n",
            "400/400 [==============================] - 6s 14ms/step - loss: 0.6932 - accuracy: 0.4816 - val_loss: 0.6932 - val_accuracy: 0.5000\n",
            "\n",
            "Epoch 00004: val_accuracy did not improve from 0.50000\n",
            "Epoch 5/150\n",
            "400/400 [==============================] - 6s 14ms/step - loss: 0.6933 - accuracy: 0.4795 - val_loss: 0.6933 - val_accuracy: 0.4350\n",
            "\n",
            "Epoch 00005: val_accuracy did not improve from 0.50000\n",
            "Epoch 6/150\n",
            "400/400 [==============================] - 6s 14ms/step - loss: 0.6932 - accuracy: 0.4874 - val_loss: 0.6932 - val_accuracy: 0.4938\n",
            "\n",
            "Epoch 00006: val_accuracy did not improve from 0.50000\n",
            "Epoch 7/150\n",
            "400/400 [==============================] - 6s 14ms/step - loss: 0.6933 - accuracy: 0.4944 - val_loss: 0.6945 - val_accuracy: 0.4044\n",
            "\n",
            "Epoch 00007: val_accuracy did not improve from 0.50000\n",
            "Epoch 8/150\n",
            "400/400 [==============================] - 6s 14ms/step - loss: 0.6934 - accuracy: 0.4948 - val_loss: 0.6933 - val_accuracy: 0.4994\n",
            "\n",
            "Epoch 00008: val_accuracy did not improve from 0.50000\n",
            "Epoch 9/150\n",
            "400/400 [==============================] - 6s 14ms/step - loss: 0.6932 - accuracy: 0.4920 - val_loss: 0.6934 - val_accuracy: 0.5006\n",
            "\n",
            "Epoch 00009: val_accuracy improved from 0.50000 to 0.50063, saving model to /tmp/weights-improvement-09-0.50.hdf5\n",
            "Epoch 10/150\n",
            "400/400 [==============================] - 6s 14ms/step - loss: 0.6934 - accuracy: 0.4803 - val_loss: 0.6933 - val_accuracy: 0.5006\n",
            "\n",
            "Epoch 00010: val_accuracy did not improve from 0.50063\n",
            "Epoch 11/150\n",
            "400/400 [==============================] - 6s 14ms/step - loss: 0.6931 - accuracy: 0.5056 - val_loss: 0.6932 - val_accuracy: 0.4850\n",
            "\n",
            "Epoch 00011: val_accuracy did not improve from 0.50063\n",
            "Epoch 12/150\n",
            "400/400 [==============================] - 6s 14ms/step - loss: 0.6931 - accuracy: 0.5062 - val_loss: 0.6934 - val_accuracy: 0.5000\n",
            "\n",
            "Epoch 00012: val_accuracy did not improve from 0.50063\n",
            "Epoch 13/150\n",
            "400/400 [==============================] - 6s 14ms/step - loss: 0.6933 - accuracy: 0.4887 - val_loss: 0.6932 - val_accuracy: 0.5000\n",
            "\n",
            "Epoch 00013: val_accuracy did not improve from 0.50063\n",
            "Epoch 14/150\n",
            "400/400 [==============================] - 6s 14ms/step - loss: 0.6932 - accuracy: 0.4987 - val_loss: 0.6933 - val_accuracy: 0.5000\n",
            "\n",
            "Epoch 00014: val_accuracy did not improve from 0.50063\n",
            "Epoch 15/150\n",
            "400/400 [==============================] - 6s 14ms/step - loss: 0.6932 - accuracy: 0.5021 - val_loss: 0.6935 - val_accuracy: 0.4963\n",
            "\n",
            "Epoch 00015: val_accuracy did not improve from 0.50063\n",
            "Epoch 16/150\n",
            "400/400 [==============================] - 6s 14ms/step - loss: 0.6932 - accuracy: 0.4969 - val_loss: 0.6935 - val_accuracy: 0.4894\n",
            "\n",
            "Epoch 00016: val_accuracy did not improve from 0.50063\n",
            "Epoch 17/150\n",
            "400/400 [==============================] - 6s 14ms/step - loss: 0.6932 - accuracy: 0.4914 - val_loss: 0.6932 - val_accuracy: 0.5000\n",
            "\n",
            "Epoch 00017: val_accuracy did not improve from 0.50063\n",
            "Epoch 18/150\n",
            "400/400 [==============================] - 6s 14ms/step - loss: 0.6933 - accuracy: 0.4843 - val_loss: 0.6933 - val_accuracy: 0.5000\n",
            "\n",
            "Epoch 00018: val_accuracy did not improve from 0.50063\n",
            "Epoch 19/150\n",
            "400/400 [==============================] - 6s 14ms/step - loss: 0.6932 - accuracy: 0.4975 - val_loss: 0.6934 - val_accuracy: 0.4300\n",
            "\n",
            "Epoch 00019: val_accuracy did not improve from 0.50063\n",
            "Epoch 20/150\n",
            "400/400 [==============================] - 6s 14ms/step - loss: 0.6933 - accuracy: 0.4945 - val_loss: 0.6933 - val_accuracy: 0.5006\n",
            "\n",
            "Epoch 00020: val_accuracy did not improve from 0.50063\n",
            "Epoch 21/150\n",
            "400/400 [==============================] - 6s 14ms/step - loss: 0.6932 - accuracy: 0.4994 - val_loss: 0.6932 - val_accuracy: 0.4787\n",
            "\n",
            "Epoch 00021: val_accuracy did not improve from 0.50063\n",
            "Epoch 22/150\n",
            "400/400 [==============================] - 6s 14ms/step - loss: 0.6932 - accuracy: 0.4944 - val_loss: 0.6934 - val_accuracy: 0.4350\n",
            "\n",
            "Epoch 00022: val_accuracy did not improve from 0.50063\n",
            "Epoch 23/150\n",
            "400/400 [==============================] - 6s 14ms/step - loss: 0.6932 - accuracy: 0.4983 - val_loss: 0.6933 - val_accuracy: 0.4681\n",
            "\n",
            "Epoch 00023: val_accuracy did not improve from 0.50063\n",
            "Epoch 24/150\n",
            "400/400 [==============================] - 6s 14ms/step - loss: 0.6932 - accuracy: 0.4894 - val_loss: 0.6933 - val_accuracy: 0.5000\n",
            "\n",
            "Epoch 00024: val_accuracy did not improve from 0.50063\n",
            "Epoch 25/150\n",
            "400/400 [==============================] - 6s 14ms/step - loss: 0.6934 - accuracy: 0.4814 - val_loss: 0.6932 - val_accuracy: 0.5000\n",
            "\n",
            "Epoch 00025: val_accuracy did not improve from 0.50063\n",
            "Epoch 26/150\n",
            "400/400 [==============================] - 6s 14ms/step - loss: 0.6931 - accuracy: 0.5077 - val_loss: 0.6932 - val_accuracy: 0.5000\n",
            "\n",
            "Epoch 00026: val_accuracy did not improve from 0.50063\n",
            "Epoch 27/150\n",
            "400/400 [==============================] - 6s 14ms/step - loss: 0.6932 - accuracy: 0.4979 - val_loss: 0.6933 - val_accuracy: 0.4569\n",
            "\n",
            "Epoch 00027: val_accuracy did not improve from 0.50063\n",
            "Epoch 28/150\n",
            "400/400 [==============================] - 6s 14ms/step - loss: 0.6932 - accuracy: 0.4962 - val_loss: 0.6932 - val_accuracy: 0.5000\n",
            "\n",
            "Epoch 00028: val_accuracy did not improve from 0.50063\n",
            "Epoch 29/150\n",
            "400/400 [==============================] - 6s 14ms/step - loss: 0.6932 - accuracy: 0.4947 - val_loss: 0.6932 - val_accuracy: 0.5000\n",
            "\n",
            "Epoch 00029: val_accuracy did not improve from 0.50063\n",
            "Epoch 30/150\n",
            "400/400 [==============================] - 6s 14ms/step - loss: 0.6932 - accuracy: 0.4902 - val_loss: 0.6932 - val_accuracy: 0.5000\n",
            "\n",
            "Epoch 00030: val_accuracy did not improve from 0.50063\n",
            "Epoch 31/150\n",
            "400/400 [==============================] - 6s 14ms/step - loss: 0.6932 - accuracy: 0.4901 - val_loss: 0.6932 - val_accuracy: 0.5000\n",
            "\n",
            "Epoch 00031: val_accuracy did not improve from 0.50063\n",
            "Epoch 32/150\n",
            "400/400 [==============================] - 6s 14ms/step - loss: 0.6932 - accuracy: 0.4967 - val_loss: 0.6932 - val_accuracy: 0.5000\n",
            "\n",
            "Epoch 00032: val_accuracy did not improve from 0.50063\n",
            "Epoch 33/150\n",
            "400/400 [==============================] - 6s 14ms/step - loss: 0.6931 - accuracy: 0.5070 - val_loss: 0.6932 - val_accuracy: 0.5000\n",
            "\n",
            "Epoch 00033: val_accuracy did not improve from 0.50063\n",
            "Epoch 34/150\n",
            "400/400 [==============================] - 6s 14ms/step - loss: 0.6932 - accuracy: 0.5055 - val_loss: 0.6932 - val_accuracy: 0.4994\n",
            "\n",
            "Epoch 00034: val_accuracy did not improve from 0.50063\n",
            "Epoch 35/150\n",
            "400/400 [==============================] - 6s 14ms/step - loss: 0.6932 - accuracy: 0.4946 - val_loss: 0.6931 - val_accuracy: 0.5000\n",
            "\n",
            "Epoch 00035: val_accuracy did not improve from 0.50063\n",
            "Epoch 36/150\n",
            "400/400 [==============================] - 6s 14ms/step - loss: 0.6932 - accuracy: 0.4991 - val_loss: 0.6932 - val_accuracy: 0.5000\n",
            "\n",
            "Epoch 00036: val_accuracy did not improve from 0.50063\n",
            "Epoch 37/150\n",
            "400/400 [==============================] - 6s 14ms/step - loss: 0.6932 - accuracy: 0.4889 - val_loss: 0.6932 - val_accuracy: 0.5000\n",
            "\n",
            "Epoch 00037: val_accuracy did not improve from 0.50063\n",
            "Epoch 38/150\n",
            "400/400 [==============================] - 6s 14ms/step - loss: 0.6931 - accuracy: 0.5095 - val_loss: 0.6933 - val_accuracy: 0.5000\n",
            "\n",
            "Epoch 00038: val_accuracy did not improve from 0.50063\n",
            "Epoch 39/150\n",
            "400/400 [==============================] - 6s 14ms/step - loss: 0.6932 - accuracy: 0.4962 - val_loss: 0.6932 - val_accuracy: 0.4175\n",
            "\n",
            "Epoch 00039: val_accuracy did not improve from 0.50063\n",
            "Epoch 40/150\n",
            "400/400 [==============================] - 6s 14ms/step - loss: 0.6932 - accuracy: 0.5000 - val_loss: 0.6932 - val_accuracy: 0.5000\n",
            "\n",
            "Epoch 00040: val_accuracy did not improve from 0.50063\n",
            "Epoch 41/150\n",
            "400/400 [==============================] - 6s 14ms/step - loss: 0.6932 - accuracy: 0.4854 - val_loss: 0.6932 - val_accuracy: 0.5000\n",
            "\n",
            "Epoch 00041: val_accuracy did not improve from 0.50063\n",
            "Epoch 42/150\n",
            "400/400 [==============================] - 6s 14ms/step - loss: 0.6932 - accuracy: 0.4877 - val_loss: 0.6932 - val_accuracy: 0.5000\n",
            "\n",
            "Epoch 00042: val_accuracy did not improve from 0.50063\n",
            "Epoch 43/150\n",
            "400/400 [==============================] - 6s 14ms/step - loss: 0.6932 - accuracy: 0.5004 - val_loss: 0.6932 - val_accuracy: 0.5000\n",
            "\n",
            "Epoch 00043: val_accuracy did not improve from 0.50063\n",
            "Epoch 44/150\n",
            "400/400 [==============================] - 6s 14ms/step - loss: 0.6932 - accuracy: 0.4887 - val_loss: 0.6932 - val_accuracy: 0.5000\n",
            "\n",
            "Epoch 00044: val_accuracy did not improve from 0.50063\n",
            "Epoch 45/150\n",
            "400/400 [==============================] - 6s 14ms/step - loss: 0.6931 - accuracy: 0.5036 - val_loss: 0.6932 - val_accuracy: 0.5000\n",
            "\n",
            "Epoch 00045: val_accuracy did not improve from 0.50063\n",
            "Epoch 46/150\n",
            "400/400 [==============================] - 6s 14ms/step - loss: 0.6932 - accuracy: 0.5026 - val_loss: 0.6932 - val_accuracy: 0.5000\n",
            "\n",
            "Epoch 00046: val_accuracy did not improve from 0.50063\n",
            "Epoch 47/150\n",
            "400/400 [==============================] - 6s 14ms/step - loss: 0.6932 - accuracy: 0.5021 - val_loss: 0.6932 - val_accuracy: 0.5000\n",
            "\n",
            "Epoch 00047: val_accuracy did not improve from 0.50063\n",
            "Epoch 48/150\n",
            "400/400 [==============================] - 6s 14ms/step - loss: 0.6932 - accuracy: 0.4940 - val_loss: 0.6933 - val_accuracy: 0.4931\n",
            "\n",
            "Epoch 00048: val_accuracy did not improve from 0.50063\n",
            "Epoch 49/150\n",
            "400/400 [==============================] - 6s 14ms/step - loss: 0.6932 - accuracy: 0.4917 - val_loss: 0.6932 - val_accuracy: 0.5000\n",
            "\n",
            "Epoch 00049: val_accuracy did not improve from 0.50063\n",
            "Epoch 50/150\n",
            "400/400 [==============================] - 6s 14ms/step - loss: 0.6932 - accuracy: 0.4986 - val_loss: 0.6932 - val_accuracy: 0.5000\n",
            "\n",
            "Epoch 00050: val_accuracy did not improve from 0.50063\n",
            "Epoch 51/150\n",
            "400/400 [==============================] - 6s 14ms/step - loss: 0.6932 - accuracy: 0.4895 - val_loss: 0.6932 - val_accuracy: 0.4963\n",
            "\n",
            "Epoch 00051: val_accuracy did not improve from 0.50063\n",
            "Epoch 52/150\n",
            "400/400 [==============================] - 6s 14ms/step - loss: 0.6932 - accuracy: 0.5007 - val_loss: 0.6933 - val_accuracy: 0.5000\n",
            "\n",
            "Epoch 00052: val_accuracy did not improve from 0.50063\n",
            "Epoch 53/150\n",
            "400/400 [==============================] - 6s 14ms/step - loss: 0.6932 - accuracy: 0.4914 - val_loss: 0.6933 - val_accuracy: 0.5000\n",
            "\n",
            "Epoch 00053: val_accuracy did not improve from 0.50063\n",
            "Epoch 54/150\n",
            "400/400 [==============================] - 6s 14ms/step - loss: 0.6932 - accuracy: 0.5001 - val_loss: 0.6932 - val_accuracy: 0.5000\n",
            "\n",
            "Epoch 00054: val_accuracy did not improve from 0.50063\n",
            "Epoch 55/150\n",
            "400/400 [==============================] - 6s 14ms/step - loss: 0.6932 - accuracy: 0.5020 - val_loss: 0.6932 - val_accuracy: 0.5000\n",
            "\n",
            "Epoch 00055: val_accuracy did not improve from 0.50063\n",
            "Epoch 56/150\n",
            "400/400 [==============================] - 6s 14ms/step - loss: 0.6932 - accuracy: 0.4844 - val_loss: 0.6932 - val_accuracy: 0.5000\n",
            "\n",
            "Epoch 00056: val_accuracy did not improve from 0.50063\n",
            "Epoch 57/150\n",
            "400/400 [==============================] - 6s 14ms/step - loss: 0.6932 - accuracy: 0.5019 - val_loss: 0.6932 - val_accuracy: 0.5000\n",
            "\n",
            "Epoch 00057: val_accuracy did not improve from 0.50063\n",
            "Epoch 58/150\n",
            "400/400 [==============================] - 6s 14ms/step - loss: 0.6932 - accuracy: 0.4904 - val_loss: 0.6932 - val_accuracy: 0.5000\n",
            "\n",
            "Epoch 00058: val_accuracy did not improve from 0.50063\n",
            "Epoch 59/150\n",
            "400/400 [==============================] - 6s 14ms/step - loss: 0.6932 - accuracy: 0.5049 - val_loss: 0.6932 - val_accuracy: 0.5000\n",
            "\n",
            "Epoch 00059: val_accuracy did not improve from 0.50063\n",
            "Epoch 60/150\n",
            "400/400 [==============================] - 6s 14ms/step - loss: 0.6932 - accuracy: 0.5007 - val_loss: 0.6932 - val_accuracy: 0.5000\n",
            "\n",
            "Epoch 00060: val_accuracy did not improve from 0.50063\n",
            "Epoch 61/150\n",
            "400/400 [==============================] - 6s 14ms/step - loss: 0.6932 - accuracy: 0.4910 - val_loss: 0.6932 - val_accuracy: 0.5000\n",
            "\n",
            "Epoch 00061: val_accuracy did not improve from 0.50063\n",
            "Epoch 62/150\n",
            "400/400 [==============================] - 6s 14ms/step - loss: 0.6932 - accuracy: 0.5008 - val_loss: 0.6932 - val_accuracy: 0.5000\n",
            "\n",
            "Epoch 00062: val_accuracy did not improve from 0.50063\n",
            "Epoch 63/150\n",
            "400/400 [==============================] - 6s 14ms/step - loss: 0.6932 - accuracy: 0.5004 - val_loss: 0.6932 - val_accuracy: 0.5000\n",
            "\n",
            "Epoch 00063: val_accuracy did not improve from 0.50063\n",
            "Epoch 64/150\n",
            "400/400 [==============================] - 6s 14ms/step - loss: 0.6932 - accuracy: 0.4913 - val_loss: 0.6932 - val_accuracy: 0.5000\n",
            "\n",
            "Epoch 00064: val_accuracy did not improve from 0.50063\n",
            "Epoch 65/150\n",
            "400/400 [==============================] - 6s 14ms/step - loss: 0.6931 - accuracy: 0.5009 - val_loss: 0.6932 - val_accuracy: 0.5000\n",
            "\n",
            "Epoch 00065: val_accuracy did not improve from 0.50063\n",
            "Epoch 66/150\n",
            "400/400 [==============================] - 6s 14ms/step - loss: 0.6932 - accuracy: 0.4877 - val_loss: 0.6932 - val_accuracy: 0.5000\n",
            "\n",
            "Epoch 00066: val_accuracy did not improve from 0.50063\n",
            "Epoch 67/150\n",
            "400/400 [==============================] - 6s 14ms/step - loss: 0.6932 - accuracy: 0.4915 - val_loss: 0.6932 - val_accuracy: 0.5000\n",
            "\n",
            "Epoch 00067: val_accuracy did not improve from 0.50063\n",
            "Epoch 68/150\n",
            "400/400 [==============================] - 6s 14ms/step - loss: 0.6932 - accuracy: 0.4773 - val_loss: 0.6932 - val_accuracy: 0.5000\n",
            "\n",
            "Epoch 00068: val_accuracy did not improve from 0.50063\n",
            "Epoch 69/150\n",
            "400/400 [==============================] - 6s 14ms/step - loss: 0.6932 - accuracy: 0.4978 - val_loss: 0.6932 - val_accuracy: 0.5000\n",
            "\n",
            "Epoch 00069: val_accuracy did not improve from 0.50063\n",
            "Epoch 70/150\n",
            "400/400 [==============================] - 6s 14ms/step - loss: 0.6932 - accuracy: 0.4785 - val_loss: 0.6932 - val_accuracy: 0.5000\n",
            "\n",
            "Epoch 00070: val_accuracy did not improve from 0.50063\n",
            "Epoch 71/150\n",
            "400/400 [==============================] - 6s 14ms/step - loss: 0.6931 - accuracy: 0.4994 - val_loss: 0.6932 - val_accuracy: 0.5000\n",
            "\n",
            "Epoch 00071: val_accuracy did not improve from 0.50063\n",
            "Epoch 72/150\n",
            "400/400 [==============================] - 6s 14ms/step - loss: 0.6932 - accuracy: 0.4923 - val_loss: 0.6932 - val_accuracy: 0.5000\n",
            "\n",
            "Epoch 00072: val_accuracy did not improve from 0.50063\n",
            "Epoch 73/150\n",
            "400/400 [==============================] - 6s 14ms/step - loss: 0.6932 - accuracy: 0.5074 - val_loss: 0.6932 - val_accuracy: 0.5000\n",
            "\n",
            "Epoch 00073: val_accuracy did not improve from 0.50063\n",
            "Epoch 74/150\n",
            "400/400 [==============================] - 6s 14ms/step - loss: 0.6932 - accuracy: 0.5081 - val_loss: 0.6932 - val_accuracy: 0.4137\n",
            "\n",
            "Epoch 00074: val_accuracy did not improve from 0.50063\n",
            "Epoch 75/150\n",
            "400/400 [==============================] - 6s 14ms/step - loss: 0.6932 - accuracy: 0.5087 - val_loss: 0.6932 - val_accuracy: 0.5000\n",
            "\n",
            "Epoch 00075: val_accuracy did not improve from 0.50063\n",
            "Epoch 76/150\n",
            "400/400 [==============================] - 6s 14ms/step - loss: 0.6931 - accuracy: 0.5083 - val_loss: 0.6932 - val_accuracy: 0.5000\n",
            "\n",
            "Epoch 00076: val_accuracy did not improve from 0.50063\n",
            "Epoch 77/150\n",
            "400/400 [==============================] - 6s 14ms/step - loss: 0.6932 - accuracy: 0.4874 - val_loss: 0.6932 - val_accuracy: 0.5000\n",
            "\n",
            "Epoch 00077: val_accuracy did not improve from 0.50063\n",
            "Epoch 78/150\n",
            "400/400 [==============================] - 6s 14ms/step - loss: 0.6932 - accuracy: 0.4960 - val_loss: 0.6932 - val_accuracy: 0.5000\n",
            "\n",
            "Epoch 00078: val_accuracy did not improve from 0.50063\n",
            "Epoch 79/150\n",
            "400/400 [==============================] - 6s 14ms/step - loss: 0.6932 - accuracy: 0.5145 - val_loss: 0.6932 - val_accuracy: 0.5000\n",
            "\n",
            "Epoch 00079: val_accuracy did not improve from 0.50063\n",
            "Epoch 80/150\n",
            "400/400 [==============================] - 6s 14ms/step - loss: 0.6932 - accuracy: 0.5085 - val_loss: 0.6932 - val_accuracy: 0.5000\n",
            "\n",
            "Epoch 00080: val_accuracy did not improve from 0.50063\n",
            "Epoch 81/150\n",
            "400/400 [==============================] - 6s 14ms/step - loss: 0.6932 - accuracy: 0.4988 - val_loss: 0.6932 - val_accuracy: 0.4450\n",
            "\n",
            "Epoch 00081: val_accuracy did not improve from 0.50063\n",
            "Epoch 82/150\n",
            "400/400 [==============================] - 6s 14ms/step - loss: 0.6932 - accuracy: 0.5023 - val_loss: 0.6932 - val_accuracy: 0.5000\n",
            "\n",
            "Epoch 00082: val_accuracy did not improve from 0.50063\n",
            "Epoch 83/150\n",
            "400/400 [==============================] - 6s 14ms/step - loss: 0.6932 - accuracy: 0.4839 - val_loss: 0.6932 - val_accuracy: 0.5000\n",
            "\n",
            "Epoch 00083: val_accuracy did not improve from 0.50063\n",
            "Epoch 84/150\n",
            "400/400 [==============================] - 6s 14ms/step - loss: 0.6932 - accuracy: 0.4945 - val_loss: 0.6932 - val_accuracy: 0.5000\n",
            "\n",
            "Epoch 00084: val_accuracy did not improve from 0.50063\n",
            "Epoch 85/150\n",
            "400/400 [==============================] - 6s 14ms/step - loss: 0.6932 - accuracy: 0.4891 - val_loss: 0.6932 - val_accuracy: 0.5000\n",
            "\n",
            "Epoch 00085: val_accuracy did not improve from 0.50063\n",
            "Epoch 86/150\n",
            "400/400 [==============================] - 6s 14ms/step - loss: 0.6932 - accuracy: 0.5038 - val_loss: 0.6932 - val_accuracy: 0.5000\n",
            "\n",
            "Epoch 00086: val_accuracy did not improve from 0.50063\n",
            "Epoch 87/150\n",
            "400/400 [==============================] - 6s 14ms/step - loss: 0.6932 - accuracy: 0.4998 - val_loss: 0.6931 - val_accuracy: 0.4381\n",
            "\n",
            "Epoch 00087: val_accuracy did not improve from 0.50063\n",
            "Epoch 88/150\n",
            "400/400 [==============================] - 6s 14ms/step - loss: 0.6932 - accuracy: 0.4916 - val_loss: 0.6931 - val_accuracy: 0.5000\n",
            "\n",
            "Epoch 00088: val_accuracy did not improve from 0.50063\n",
            "Epoch 89/150\n",
            "400/400 [==============================] - 6s 14ms/step - loss: 0.6932 - accuracy: 0.5000 - val_loss: 0.6931 - val_accuracy: 0.5000\n",
            "\n",
            "Epoch 00089: val_accuracy did not improve from 0.50063\n",
            "Epoch 90/150\n",
            "400/400 [==============================] - 6s 14ms/step - loss: 0.6931 - accuracy: 0.4916 - val_loss: 0.6932 - val_accuracy: 0.5000\n",
            "\n",
            "Epoch 00090: val_accuracy did not improve from 0.50063\n",
            "Epoch 91/150\n",
            "400/400 [==============================] - 6s 14ms/step - loss: 0.6931 - accuracy: 0.5064 - val_loss: 0.6932 - val_accuracy: 0.5000\n",
            "\n",
            "Epoch 00091: val_accuracy did not improve from 0.50063\n",
            "Epoch 92/150\n",
            "400/400 [==============================] - 6s 14ms/step - loss: 0.6932 - accuracy: 0.4868 - val_loss: 0.6932 - val_accuracy: 0.4606\n",
            "\n",
            "Epoch 00092: val_accuracy did not improve from 0.50063\n",
            "Epoch 93/150\n",
            "400/400 [==============================] - 6s 14ms/step - loss: 0.6932 - accuracy: 0.4974 - val_loss: 0.6932 - val_accuracy: 0.5000\n",
            "\n",
            "Epoch 00093: val_accuracy did not improve from 0.50063\n",
            "Epoch 94/150\n",
            "400/400 [==============================] - 6s 14ms/step - loss: 0.6932 - accuracy: 0.5036 - val_loss: 0.6932 - val_accuracy: 0.5000\n",
            "\n",
            "Epoch 00094: val_accuracy did not improve from 0.50063\n",
            "Epoch 95/150\n",
            "400/400 [==============================] - 6s 14ms/step - loss: 0.6932 - accuracy: 0.5110 - val_loss: 0.6933 - val_accuracy: 0.4963\n",
            "\n",
            "Epoch 00095: val_accuracy did not improve from 0.50063\n",
            "Epoch 96/150\n",
            "400/400 [==============================] - 6s 14ms/step - loss: 0.6932 - accuracy: 0.4921 - val_loss: 0.6932 - val_accuracy: 0.5000\n",
            "\n",
            "Epoch 00096: val_accuracy did not improve from 0.50063\n",
            "Epoch 97/150\n",
            "400/400 [==============================] - 6s 14ms/step - loss: 0.6932 - accuracy: 0.5033 - val_loss: 0.6932 - val_accuracy: 0.4944\n",
            "\n",
            "Epoch 00097: val_accuracy did not improve from 0.50063\n",
            "Epoch 98/150\n",
            "400/400 [==============================] - 6s 14ms/step - loss: 0.6931 - accuracy: 0.5002 - val_loss: 0.6932 - val_accuracy: 0.5000\n",
            "\n",
            "Epoch 00098: val_accuracy did not improve from 0.50063\n",
            "Epoch 99/150\n",
            "400/400 [==============================] - 6s 14ms/step - loss: 0.6932 - accuracy: 0.4926 - val_loss: 0.6932 - val_accuracy: 0.5000\n",
            "\n",
            "Epoch 00099: val_accuracy did not improve from 0.50063\n",
            "Epoch 100/150\n",
            "400/400 [==============================] - 6s 14ms/step - loss: 0.6932 - accuracy: 0.5006 - val_loss: 0.6933 - val_accuracy: 0.4081\n",
            "\n",
            "Epoch 00100: val_accuracy did not improve from 0.50063\n",
            "Epoch 101/150\n",
            "400/400 [==============================] - 6s 14ms/step - loss: 0.6932 - accuracy: 0.5084 - val_loss: 0.6933 - val_accuracy: 0.5000\n",
            "\n",
            "Epoch 00101: val_accuracy did not improve from 0.50063\n",
            "Epoch 102/150\n",
            "400/400 [==============================] - 6s 14ms/step - loss: 0.6932 - accuracy: 0.4983 - val_loss: 0.6933 - val_accuracy: 0.5000\n",
            "\n",
            "Epoch 00102: val_accuracy did not improve from 0.50063\n",
            "Epoch 103/150\n",
            "400/400 [==============================] - 6s 14ms/step - loss: 0.6932 - accuracy: 0.4960 - val_loss: 0.6932 - val_accuracy: 0.4975\n",
            "\n",
            "Epoch 00103: val_accuracy did not improve from 0.50063\n",
            "Epoch 104/150\n",
            "400/400 [==============================] - 6s 14ms/step - loss: 0.6932 - accuracy: 0.5057 - val_loss: 0.6932 - val_accuracy: 0.5000\n",
            "\n",
            "Epoch 00104: val_accuracy did not improve from 0.50063\n",
            "Epoch 105/150\n",
            "400/400 [==============================] - 6s 14ms/step - loss: 0.6932 - accuracy: 0.5054 - val_loss: 0.6932 - val_accuracy: 0.5000\n",
            "\n",
            "Epoch 00105: val_accuracy did not improve from 0.50063\n",
            "Epoch 106/150\n",
            "400/400 [==============================] - 6s 14ms/step - loss: 0.6931 - accuracy: 0.5096 - val_loss: 0.6932 - val_accuracy: 0.4863\n",
            "\n",
            "Epoch 00106: val_accuracy did not improve from 0.50063\n",
            "Epoch 107/150\n",
            "400/400 [==============================] - 6s 14ms/step - loss: 0.6932 - accuracy: 0.4998 - val_loss: 0.6932 - val_accuracy: 0.5000\n",
            "\n",
            "Epoch 00107: val_accuracy did not improve from 0.50063\n",
            "Epoch 108/150\n",
            "400/400 [==============================] - 5s 14ms/step - loss: 0.6931 - accuracy: 0.5073 - val_loss: 0.6932 - val_accuracy: 0.5000\n",
            "\n",
            "Epoch 00108: val_accuracy did not improve from 0.50063\n",
            "Epoch 109/150\n",
            "400/400 [==============================] - 6s 14ms/step - loss: 0.6932 - accuracy: 0.4969 - val_loss: 0.6932 - val_accuracy: 0.5000\n",
            "\n",
            "Epoch 00109: val_accuracy did not improve from 0.50063\n",
            "Epoch 110/150\n",
            "400/400 [==============================] - 6s 14ms/step - loss: 0.6932 - accuracy: 0.4944 - val_loss: 0.6932 - val_accuracy: 0.5000\n",
            "\n",
            "Epoch 00110: val_accuracy did not improve from 0.50063\n",
            "Epoch 111/150\n",
            "400/400 [==============================] - 6s 14ms/step - loss: 0.6932 - accuracy: 0.4835 - val_loss: 0.6932 - val_accuracy: 0.4963\n",
            "\n",
            "Epoch 00111: val_accuracy did not improve from 0.50063\n",
            "Epoch 112/150\n",
            "400/400 [==============================] - 6s 14ms/step - loss: 0.6932 - accuracy: 0.4927 - val_loss: 0.6932 - val_accuracy: 0.5000\n",
            "\n",
            "Epoch 00112: val_accuracy did not improve from 0.50063\n",
            "Epoch 113/150\n",
            "400/400 [==============================] - 6s 14ms/step - loss: 0.6932 - accuracy: 0.5077 - val_loss: 0.6932 - val_accuracy: 0.5000\n",
            "\n",
            "Epoch 00113: val_accuracy did not improve from 0.50063\n",
            "Epoch 114/150\n",
            "400/400 [==============================] - 6s 14ms/step - loss: 0.6931 - accuracy: 0.5094 - val_loss: 0.6932 - val_accuracy: 0.5000\n",
            "\n",
            "Epoch 00114: val_accuracy did not improve from 0.50063\n",
            "Epoch 115/150\n",
            "400/400 [==============================] - 5s 14ms/step - loss: 0.6933 - accuracy: 0.4808 - val_loss: 0.6932 - val_accuracy: 0.5000\n",
            "\n",
            "Epoch 00115: val_accuracy did not improve from 0.50063\n",
            "Epoch 116/150\n",
            "400/400 [==============================] - 6s 14ms/step - loss: 0.6932 - accuracy: 0.4907 - val_loss: 0.6932 - val_accuracy: 0.5000\n",
            "\n",
            "Epoch 00116: val_accuracy did not improve from 0.50063\n",
            "Epoch 117/150\n",
            "400/400 [==============================] - 6s 14ms/step - loss: 0.6932 - accuracy: 0.4958 - val_loss: 0.6932 - val_accuracy: 0.5000\n",
            "\n",
            "Epoch 00117: val_accuracy did not improve from 0.50063\n",
            "Epoch 118/150\n",
            "400/400 [==============================] - 6s 14ms/step - loss: 0.6932 - accuracy: 0.4994 - val_loss: 0.6932 - val_accuracy: 0.5000\n",
            "\n",
            "Epoch 00118: val_accuracy did not improve from 0.50063\n",
            "Epoch 119/150\n",
            "400/400 [==============================] - 6s 14ms/step - loss: 0.6932 - accuracy: 0.4961 - val_loss: 0.6932 - val_accuracy: 0.5000\n",
            "\n",
            "Epoch 00119: val_accuracy did not improve from 0.50063\n",
            "Epoch 120/150\n",
            "400/400 [==============================] - 6s 14ms/step - loss: 0.6932 - accuracy: 0.4931 - val_loss: 0.6932 - val_accuracy: 0.5000\n",
            "\n",
            "Epoch 00120: val_accuracy did not improve from 0.50063\n",
            "Epoch 121/150\n",
            "400/400 [==============================] - 6s 14ms/step - loss: 0.6932 - accuracy: 0.4860 - val_loss: 0.6932 - val_accuracy: 0.5000\n",
            "\n",
            "Epoch 00121: val_accuracy did not improve from 0.50063\n",
            "Epoch 122/150\n",
            "400/400 [==============================] - 6s 14ms/step - loss: 0.6932 - accuracy: 0.4965 - val_loss: 0.6932 - val_accuracy: 0.5000\n",
            "\n",
            "Epoch 00122: val_accuracy did not improve from 0.50063\n",
            "Epoch 123/150\n",
            "400/400 [==============================] - 6s 14ms/step - loss: 0.6932 - accuracy: 0.5009 - val_loss: 0.6932 - val_accuracy: 0.5000\n",
            "\n",
            "Epoch 00123: val_accuracy did not improve from 0.50063\n",
            "Epoch 124/150\n",
            "400/400 [==============================] - 6s 14ms/step - loss: 0.6932 - accuracy: 0.4946 - val_loss: 0.6932 - val_accuracy: 0.5000\n",
            "\n",
            "Epoch 00124: val_accuracy did not improve from 0.50063\n",
            "Epoch 125/150\n",
            "400/400 [==============================] - 6s 14ms/step - loss: 0.6932 - accuracy: 0.4921 - val_loss: 0.6932 - val_accuracy: 0.5000\n",
            "\n",
            "Epoch 00125: val_accuracy did not improve from 0.50063\n",
            "Epoch 126/150\n",
            "400/400 [==============================] - 6s 14ms/step - loss: 0.6932 - accuracy: 0.4832 - val_loss: 0.6932 - val_accuracy: 0.5000\n",
            "\n",
            "Epoch 00126: val_accuracy did not improve from 0.50063\n",
            "Epoch 127/150\n",
            "400/400 [==============================] - 6s 14ms/step - loss: 0.6932 - accuracy: 0.5003 - val_loss: 0.6932 - val_accuracy: 0.5000\n",
            "\n",
            "Epoch 00127: val_accuracy did not improve from 0.50063\n",
            "Epoch 128/150\n",
            "400/400 [==============================] - 6s 14ms/step - loss: 0.6931 - accuracy: 0.5142 - val_loss: 0.6932 - val_accuracy: 0.5000\n",
            "\n",
            "Epoch 00128: val_accuracy did not improve from 0.50063\n",
            "Epoch 129/150\n",
            "400/400 [==============================] - 6s 14ms/step - loss: 0.6932 - accuracy: 0.4925 - val_loss: 0.6931 - val_accuracy: 0.5000\n",
            "\n",
            "Epoch 00129: val_accuracy did not improve from 0.50063\n",
            "Epoch 130/150\n",
            "400/400 [==============================] - 6s 14ms/step - loss: 0.6932 - accuracy: 0.5021 - val_loss: 0.6931 - val_accuracy: 0.5000\n",
            "\n",
            "Epoch 00130: val_accuracy did not improve from 0.50063\n",
            "Epoch 131/150\n",
            "400/400 [==============================] - 6s 14ms/step - loss: 0.6932 - accuracy: 0.4914 - val_loss: 0.6931 - val_accuracy: 0.5000\n",
            "\n",
            "Epoch 00131: val_accuracy did not improve from 0.50063\n",
            "Epoch 132/150\n",
            "400/400 [==============================] - 6s 14ms/step - loss: 0.6932 - accuracy: 0.4887 - val_loss: 0.6931 - val_accuracy: 0.5000\n",
            "\n",
            "Epoch 00132: val_accuracy did not improve from 0.50063\n",
            "Epoch 133/150\n",
            "400/400 [==============================] - 6s 14ms/step - loss: 0.6932 - accuracy: 0.4979 - val_loss: 0.6931 - val_accuracy: 0.5000\n",
            "\n",
            "Epoch 00133: val_accuracy did not improve from 0.50063\n",
            "Epoch 134/150\n",
            "400/400 [==============================] - 6s 14ms/step - loss: 0.6932 - accuracy: 0.4909 - val_loss: 0.6931 - val_accuracy: 0.5000\n",
            "\n",
            "Epoch 00134: val_accuracy did not improve from 0.50063\n",
            "Epoch 135/150\n",
            "400/400 [==============================] - 6s 14ms/step - loss: 0.6932 - accuracy: 0.4887 - val_loss: 0.6931 - val_accuracy: 0.5000\n",
            "\n",
            "Epoch 00135: val_accuracy did not improve from 0.50063\n",
            "Epoch 136/150\n",
            "400/400 [==============================] - 6s 14ms/step - loss: 0.6932 - accuracy: 0.5008 - val_loss: 0.6931 - val_accuracy: 0.5000\n",
            "\n",
            "Epoch 00136: val_accuracy did not improve from 0.50063\n",
            "Epoch 137/150\n",
            "400/400 [==============================] - 6s 14ms/step - loss: 0.6931 - accuracy: 0.5002 - val_loss: 0.6931 - val_accuracy: 0.5000\n",
            "\n",
            "Epoch 00137: val_accuracy did not improve from 0.50063\n",
            "Epoch 138/150\n",
            "400/400 [==============================] - 6s 14ms/step - loss: 0.6932 - accuracy: 0.4978 - val_loss: 0.6931 - val_accuracy: 0.5000\n",
            "\n",
            "Epoch 00138: val_accuracy did not improve from 0.50063\n",
            "Epoch 139/150\n",
            "400/400 [==============================] - 6s 14ms/step - loss: 0.6932 - accuracy: 0.4882 - val_loss: 0.6931 - val_accuracy: 0.5000\n",
            "\n",
            "Epoch 00139: val_accuracy did not improve from 0.50063\n",
            "Epoch 140/150\n",
            "400/400 [==============================] - 6s 14ms/step - loss: 0.6932 - accuracy: 0.4904 - val_loss: 0.6931 - val_accuracy: 0.5000\n",
            "\n",
            "Epoch 00140: val_accuracy did not improve from 0.50063\n",
            "Epoch 141/150\n",
            "400/400 [==============================] - 6s 14ms/step - loss: 0.6931 - accuracy: 0.5085 - val_loss: 0.6932 - val_accuracy: 0.5000\n",
            "\n",
            "Epoch 00141: val_accuracy did not improve from 0.50063\n",
            "Epoch 142/150\n",
            "400/400 [==============================] - 6s 14ms/step - loss: 0.6932 - accuracy: 0.5032 - val_loss: 0.6931 - val_accuracy: 0.5000\n",
            "\n",
            "Epoch 00142: val_accuracy did not improve from 0.50063\n",
            "Epoch 143/150\n",
            "400/400 [==============================] - 6s 14ms/step - loss: 0.6932 - accuracy: 0.4942 - val_loss: 0.6932 - val_accuracy: 0.5000\n",
            "\n",
            "Epoch 00143: val_accuracy did not improve from 0.50063\n",
            "Epoch 144/150\n",
            "400/400 [==============================] - 6s 14ms/step - loss: 0.6932 - accuracy: 0.4841 - val_loss: 0.6932 - val_accuracy: 0.5000\n",
            "\n",
            "Epoch 00144: val_accuracy did not improve from 0.50063\n",
            "Epoch 145/150\n",
            "400/400 [==============================] - 6s 14ms/step - loss: 0.6932 - accuracy: 0.4983 - val_loss: 0.6931 - val_accuracy: 0.5000\n",
            "\n",
            "Epoch 00145: val_accuracy did not improve from 0.50063\n",
            "Epoch 146/150\n",
            "400/400 [==============================] - 6s 14ms/step - loss: 0.6932 - accuracy: 0.4926 - val_loss: 0.6931 - val_accuracy: 0.5000\n",
            "\n",
            "Epoch 00146: val_accuracy did not improve from 0.50063\n",
            "Epoch 147/150\n",
            "400/400 [==============================] - 6s 14ms/step - loss: 0.6932 - accuracy: 0.5075 - val_loss: 0.6931 - val_accuracy: 0.5000\n",
            "\n",
            "Epoch 00147: val_accuracy did not improve from 0.50063\n",
            "Epoch 148/150\n",
            "400/400 [==============================] - 6s 14ms/step - loss: 0.6932 - accuracy: 0.4872 - val_loss: 0.6931 - val_accuracy: 0.5000\n",
            "\n",
            "Epoch 00148: val_accuracy did not improve from 0.50063\n",
            "Epoch 149/150\n",
            "400/400 [==============================] - 6s 14ms/step - loss: 0.6932 - accuracy: 0.4951 - val_loss: 0.6931 - val_accuracy: 0.5000\n",
            "\n",
            "Epoch 00149: val_accuracy did not improve from 0.50063\n",
            "Epoch 150/150\n",
            "400/400 [==============================] - 6s 14ms/step - loss: 0.6932 - accuracy: 0.4818 - val_loss: 0.6931 - val_accuracy: 0.5000\n",
            "\n",
            "Epoch 00150: val_accuracy did not improve from 0.50063\n"
          ],
          "name": "stdout"
        }
      ]
    },
    {
      "cell_type": "code",
      "metadata": {
        "colab": {
          "background_save": true
        },
        "id": "LtuA_fibAVEt",
        "outputId": "7244a636-a0bf-49ef-f244-28ea96392a6a"
      },
      "source": [
        "# define the path to the base output directory\r\n",
        "BASE_OUTPUT = \"output\"\r\n",
        "# use the base output path to derive the path to the serialized\r\n",
        "# model along with training history plot\r\n",
        "MODEL_PATH = os.path.sep.join([BASE_OUTPUT, \"siamese_model\"])\r\n",
        "PLOT_PATH = os.path.sep.join([BASE_OUTPUT, \"plot.png\"])\r\n",
        "# serialize the model to disk\r\n",
        "print(\"[INFO] saving siamese model...\")\r\n",
        "model.save(MODEL_PATH)\r\n",
        "# plot the training history\r\n",
        "print(\"[INFO] plotting training history...\")\r\n",
        "plot_training(history, PLOT_PATH)"
      ],
      "execution_count": null,
      "outputs": [
        {
          "output_type": "stream",
          "text": [
            "[INFO] saving siamese model...\n",
            "INFO:tensorflow:Assets written to: output/siamese_model/assets\n",
            "[INFO] plotting training history...\n"
          ],
          "name": "stdout"
        },
        {
          "output_type": "display_data",
          "data": {
            "image/png": "[encoded data removed]",
            "text/plain": [
              "<Figure size 432x288 with 1 Axes>"
            ]
          },
          "metadata": {
            "tags": []
          }
        }
      ]
    },
    {
      "cell_type": "code",
      "metadata": {
        "colab": {
          "background_save": true
        },
        "id": "vwSEAdylAb-s",
        "outputId": "acb345d7-2553-4188-da89-0d68b30ed2b9"
      },
      "source": [
        "from keras.utils.vis_utils import plot_model\r\n",
        "plot_model(model, to_file='model_plot.png', show_shapes=True, show_layer_names=True)"
      ],
      "execution_count": null,
      "outputs": [
        {
          "output_type": "execute_result",
          "data": {
            "image/png": "[encoded data removed]",
            "text/plain": [
              "<IPython.core.display.Image object>"
            ]
          },
          "metadata": {
            "tags": []
          },
          "execution_count": 0
        }
      ]
    }
  ]
}